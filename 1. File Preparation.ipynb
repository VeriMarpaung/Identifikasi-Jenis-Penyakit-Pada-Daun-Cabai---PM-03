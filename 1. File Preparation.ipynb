{
 "cells": [
  {
   "cell_type": "markdown",
   "metadata": {},
   "source": [
    "# Kita Pisahkan datanya menjadi 3"
   ]
  },
  {
   "cell_type": "markdown",
   "metadata": {},
   "source": [
    "- train (data latih)\n",
    "- validation (validasi untuk data latih)\n",
    "- test (data testing untuk menguji model)"
   ]
  },
  {
   "cell_type": "code",
   "execution_count": 1,
   "metadata": {
    "ExecuteTime": {
     "end_time": "2020-04-27T13:20:25.152791Z",
     "start_time": "2020-04-27T13:20:25.151197Z"
    }
   },
   "outputs": [],
   "source": [
    "import os\n",
    "import pandas as pd"
   ]
  },
  {
   "cell_type": "code",
   "execution_count": 17,
   "metadata": {
    "ExecuteTime": {
     "end_time": "2020-04-27T13:20:25.411819Z",
     "start_time": "2020-04-27T13:20:25.410118Z"
    }
   },
   "outputs": [],
   "source": [
    "mypath= 'Dataset/'"
   ]
  },
  {
   "cell_type": "code",
   "execution_count": 18,
   "metadata": {
    "ExecuteTime": {
     "end_time": "2020-04-27T13:20:26.610071Z",
     "start_time": "2020-04-27T13:20:26.587117Z"
    }
   },
   "outputs": [],
   "source": [
    "file_name = []\n",
    "tag = []\n",
    "full_path = []\n",
    "for path, subdirs, files in os.walk(mypath):\n",
    "    for name in files:\n",
    "        full_path.append(os.path.join(path, name).replace(\"\\\\\",\"/\")) \n",
    "        tag.append(path.split('/')[-1])        \n",
    "        file_name.append(name)"
   ]
  },
  {
   "cell_type": "code",
   "execution_count": 19,
   "metadata": {
    "ExecuteTime": {
     "end_time": "2020-04-27T13:24:26.890142Z",
     "start_time": "2020-04-27T13:24:26.883846Z"
    }
   },
   "outputs": [
    {
     "data": {
      "text/plain": [
       "tag\n",
       "Keriting    150\n",
       "Kuning      185\n",
       "Layu        107\n",
       "dtype: int64"
      ]
     },
     "execution_count": 19,
     "metadata": {},
     "output_type": "execute_result"
    }
   ],
   "source": [
    "# memasukan variabel yang sudah dikumpulkan pada looping di atas menjadi sebuah dataframe agar rapih\n",
    "df = pd.DataFrame({\"path\":full_path,'file_name':file_name,\"tag\":tag})\n",
    "df.groupby(['tag']).size()"
   ]
  },
  {
   "cell_type": "code",
   "execution_count": 20,
   "metadata": {
    "ExecuteTime": {
     "end_time": "2020-04-27T13:24:27.173074Z",
     "start_time": "2020-04-27T13:24:27.167878Z"
    }
   },
   "outputs": [
    {
     "data": {
      "text/html": [
       "<div>\n",
       "<style scoped>\n",
       "    .dataframe tbody tr th:only-of-type {\n",
       "        vertical-align: middle;\n",
       "    }\n",
       "\n",
       "    .dataframe tbody tr th {\n",
       "        vertical-align: top;\n",
       "    }\n",
       "\n",
       "    .dataframe thead th {\n",
       "        text-align: right;\n",
       "    }\n",
       "</style>\n",
       "<table border=\"1\" class=\"dataframe\">\n",
       "  <thead>\n",
       "    <tr style=\"text-align: right;\">\n",
       "      <th></th>\n",
       "      <th>path</th>\n",
       "      <th>file_name</th>\n",
       "      <th>tag</th>\n",
       "    </tr>\n",
       "  </thead>\n",
       "  <tbody>\n",
       "    <tr>\n",
       "      <th>0</th>\n",
       "      <td>Dataset/Keriting/IMG_20241025_102833.jpg</td>\n",
       "      <td>IMG_20241025_102833.jpg</td>\n",
       "      <td>Keriting</td>\n",
       "    </tr>\n",
       "    <tr>\n",
       "      <th>1</th>\n",
       "      <td>Dataset/Keriting/IMG_20241025_102833_1.jpg</td>\n",
       "      <td>IMG_20241025_102833_1.jpg</td>\n",
       "      <td>Keriting</td>\n",
       "    </tr>\n",
       "    <tr>\n",
       "      <th>2</th>\n",
       "      <td>Dataset/Keriting/IMG_20241025_102834.jpg</td>\n",
       "      <td>IMG_20241025_102834.jpg</td>\n",
       "      <td>Keriting</td>\n",
       "    </tr>\n",
       "    <tr>\n",
       "      <th>3</th>\n",
       "      <td>Dataset/Keriting/IMG_20241025_102836.jpg</td>\n",
       "      <td>IMG_20241025_102836.jpg</td>\n",
       "      <td>Keriting</td>\n",
       "    </tr>\n",
       "    <tr>\n",
       "      <th>4</th>\n",
       "      <td>Dataset/Keriting/IMG_20241025_102946.jpg</td>\n",
       "      <td>IMG_20241025_102946.jpg</td>\n",
       "      <td>Keriting</td>\n",
       "    </tr>\n",
       "  </tbody>\n",
       "</table>\n",
       "</div>"
      ],
      "text/plain": [
       "                                         path                  file_name  \\\n",
       "0    Dataset/Keriting/IMG_20241025_102833.jpg    IMG_20241025_102833.jpg   \n",
       "1  Dataset/Keriting/IMG_20241025_102833_1.jpg  IMG_20241025_102833_1.jpg   \n",
       "2    Dataset/Keriting/IMG_20241025_102834.jpg    IMG_20241025_102834.jpg   \n",
       "3    Dataset/Keriting/IMG_20241025_102836.jpg    IMG_20241025_102836.jpg   \n",
       "4    Dataset/Keriting/IMG_20241025_102946.jpg    IMG_20241025_102946.jpg   \n",
       "\n",
       "        tag  \n",
       "0  Keriting  \n",
       "1  Keriting  \n",
       "2  Keriting  \n",
       "3  Keriting  \n",
       "4  Keriting  "
      ]
     },
     "execution_count": 20,
     "metadata": {},
     "output_type": "execute_result"
    }
   ],
   "source": [
    "#cek sample datanya\n",
    "df.head()"
   ]
  },
  {
   "cell_type": "markdown",
   "metadata": {},
   "source": [
    "# Train test split"
   ]
  },
  {
   "cell_type": "code",
   "execution_count": 21,
   "metadata": {
    "ExecuteTime": {
     "end_time": "2020-04-27T13:24:27.608099Z",
     "start_time": "2020-04-27T13:24:27.606378Z"
    }
   },
   "outputs": [],
   "source": [
    "#load library untuk train test split\n",
    "from sklearn.model_selection import train_test_split"
   ]
  },
  {
   "cell_type": "code",
   "execution_count": 22,
   "metadata": {
    "ExecuteTime": {
     "end_time": "2020-04-27T13:24:38.449924Z",
     "start_time": "2020-04-27T13:24:38.447907Z"
    }
   },
   "outputs": [],
   "source": [
    "#variabel yang digunakan pada pemisahan data ini\n",
    "X= df['path']\n",
    "y= df['tag']"
   ]
  },
  {
   "cell_type": "code",
   "execution_count": 23,
   "metadata": {
    "ExecuteTime": {
     "end_time": "2020-04-27T13:24:38.787271Z",
     "start_time": "2020-04-27T13:24:38.781487Z"
    }
   },
   "outputs": [],
   "source": [
    "# split dataset awal menjadi data train dan test\n",
    "X_train, X_test, y_train, y_test = train_test_split(\n",
    "    X, y, test_size=0.20, random_state=300)"
   ]
  },
  {
   "cell_type": "code",
   "execution_count": 24,
   "metadata": {
    "ExecuteTime": {
     "end_time": "2020-04-27T13:24:38.946665Z",
     "start_time": "2020-04-27T13:24:38.942709Z"
    }
   },
   "outputs": [],
   "source": [
    "# kemudian data test dibagi menjadi 2 sehingga menjadi data test dan data validation.\n",
    "X_test, X_val, y_test, y_val = train_test_split(\n",
    "    X_test, y_test, test_size=0.5, random_state=100)"
   ]
  },
  {
   "cell_type": "code",
   "execution_count": 25,
   "metadata": {
    "ExecuteTime": {
     "end_time": "2020-04-27T13:27:35.790033Z",
     "start_time": "2020-04-27T13:27:35.784677Z"
    }
   },
   "outputs": [],
   "source": [
    "# menyatukan kedalam masing-masing dataframe\n",
    "\n",
    "df_tr = pd.DataFrame({'path':X_train\n",
    "              ,'tag':y_train\n",
    "             ,'set':'train'})\n",
    "\n",
    "df_te = pd.DataFrame({'path':X_test\n",
    "              ,'tag':y_test\n",
    "             ,'set':'test'})\n",
    "\n",
    "df_val = pd.DataFrame({'path':X_val\n",
    "              ,'tag':y_val\n",
    "             ,'set':'validation'})"
   ]
  },
  {
   "cell_type": "code",
   "execution_count": 26,
   "metadata": {
    "ExecuteTime": {
     "end_time": "2020-04-27T13:27:36.006934Z",
     "start_time": "2020-04-27T13:27:36.004779Z"
    }
   },
   "outputs": [
    {
     "name": "stdout",
     "output_type": "stream",
     "text": [
      "train size 353\n",
      "val size 44\n",
      "test size 45\n"
     ]
    }
   ],
   "source": [
    "print('train size', len(df_tr))\n",
    "print('val size', len(df_te))\n",
    "print('test size', len(df_val))"
   ]
  },
  {
   "cell_type": "code",
   "execution_count": 27,
   "metadata": {
    "ExecuteTime": {
     "end_time": "2020-04-27T13:45:04.988035Z",
     "start_time": "2020-04-27T13:45:04.977060Z"
    }
   },
   "outputs": [
    {
     "name": "stdout",
     "output_type": "stream",
     "text": [
      "===================================================== \n",
      "\n",
      "set         tag     \n",
      "test        Keriting     14\n",
      "            Kuning       16\n",
      "            Layu         14\n",
      "train       Keriting    119\n",
      "            Kuning      147\n",
      "            Layu         87\n",
      "validation  Keriting     17\n",
      "            Kuning       22\n",
      "            Layu          6\n",
      "dtype: int64 \n",
      "\n",
      "===================================================== \n",
      "\n"
     ]
    },
    {
     "data": {
      "text/html": [
       "<div>\n",
       "<style scoped>\n",
       "    .dataframe tbody tr th:only-of-type {\n",
       "        vertical-align: middle;\n",
       "    }\n",
       "\n",
       "    .dataframe tbody tr th {\n",
       "        vertical-align: top;\n",
       "    }\n",
       "\n",
       "    .dataframe thead th {\n",
       "        text-align: right;\n",
       "    }\n",
       "</style>\n",
       "<table border=\"1\" class=\"dataframe\">\n",
       "  <thead>\n",
       "    <tr style=\"text-align: right;\">\n",
       "      <th></th>\n",
       "      <th>path</th>\n",
       "      <th>tag</th>\n",
       "      <th>set</th>\n",
       "    </tr>\n",
       "  </thead>\n",
       "  <tbody>\n",
       "    <tr>\n",
       "      <th>229</th>\n",
       "      <td>Dataset/Layu/IMG_20241025_113232_1.jpg</td>\n",
       "      <td>Layu</td>\n",
       "      <td>train</td>\n",
       "    </tr>\n",
       "    <tr>\n",
       "      <th>135</th>\n",
       "      <td>Dataset/Kuning/IMG_20241025_103520_413.jpg</td>\n",
       "      <td>Kuning</td>\n",
       "      <td>train</td>\n",
       "    </tr>\n",
       "    <tr>\n",
       "      <th>33</th>\n",
       "      <td>Dataset/Keriting/IMG_20241025_103202.jpg</td>\n",
       "      <td>Keriting</td>\n",
       "      <td>train</td>\n",
       "    </tr>\n",
       "  </tbody>\n",
       "</table>\n",
       "</div>"
      ],
      "text/plain": [
       "                                           path       tag    set\n",
       "229      Dataset/Layu/IMG_20241025_113232_1.jpg      Layu  train\n",
       "135  Dataset/Kuning/IMG_20241025_103520_413.jpg    Kuning  train\n",
       "33     Dataset/Keriting/IMG_20241025_103202.jpg  Keriting  train"
      ]
     },
     "execution_count": 27,
     "metadata": {},
     "output_type": "execute_result"
    }
   ],
   "source": [
    "# Menggabungkan data frame df_tr, df_te, dan df_val\n",
    "df_all = pd.concat([df_tr, df_te, df_val], ignore_index=True)\n",
    "\n",
    "print('===================================================== \\n')\n",
    "print(df_all.groupby(['set', 'tag']).size(), '\\n')\n",
    "\n",
    "print('===================================================== \\n')\n",
    "\n",
    "# Cek sample datanya\n",
    "df_all.sample(3)\n"
   ]
  },
  {
   "cell_type": "markdown",
   "metadata": {},
   "source": [
    "# Merapihkan ke folder set masing-masing"
   ]
  },
  {
   "cell_type": "code",
   "execution_count": 28,
   "metadata": {
    "ExecuteTime": {
     "end_time": "2020-04-27T13:45:15.341975Z",
     "start_time": "2020-04-27T13:45:15.340307Z"
    }
   },
   "outputs": [],
   "source": [
    "# menghapus folder dataset jika diperlukan\n",
    "#!rm -rf dataset/"
   ]
  },
  {
   "cell_type": "code",
   "execution_count": 29,
   "metadata": {
    "ExecuteTime": {
     "end_time": "2020-04-27T13:45:15.523556Z",
     "start_time": "2020-04-27T13:45:15.521907Z"
    }
   },
   "outputs": [],
   "source": [
    "import shutil\n",
    "from tqdm.notebook import tqdm as tq"
   ]
  },
  {
   "cell_type": "code",
   "execution_count": 30,
   "metadata": {
    "ExecuteTime": {
     "end_time": "2020-04-27T13:45:17.315452Z",
     "start_time": "2020-04-27T13:45:17.313905Z"
    }
   },
   "outputs": [],
   "source": [
    "datasource_path = \"Dataset/\"\n",
    "dataset_path = \"Dataset_polos_after/\""
   ]
  },
  {
   "cell_type": "code",
   "execution_count": 31,
   "metadata": {
    "ExecuteTime": {
     "end_time": "2020-04-27T13:45:21.624008Z",
     "start_time": "2020-04-27T13:45:20.037843Z"
    }
   },
   "outputs": [
    {
     "data": {
      "application/vnd.jupyter.widget-view+json": {
       "model_id": "553b6825de22448dbe58c48a0e219280",
       "version_major": 2,
       "version_minor": 0
      },
      "text/plain": [
       "0it [00:00, ?it/s]"
      ]
     },
     "metadata": {},
     "output_type": "display_data"
    }
   ],
   "source": [
    "for index, row in tq(df_all.iterrows(), ):\n",
    "    \n",
    "    #detect filepath\n",
    "    file_path = row['path']\n",
    "    if os.path.exists(file_path) == False:\n",
    "            file_path = os.path.join(datasource_path,row['tag'],row['image'].split('.')[0])            \n",
    "    \n",
    "    #make folder destination dirs\n",
    "    if os.path.exists(os.path.join(dataset_path,row['set'],row['tag'])) == False:\n",
    "        os.makedirs(os.path.join(dataset_path,row['set'],row['tag']))\n",
    "    \n",
    "    #define file dest\n",
    "    destination_file_name = file_path.split('/')[-1]\n",
    "    file_dest = os.path.join(dataset_path,row['set'],row['tag'],destination_file_name)\n",
    "    \n",
    "    #copy file from source to dest\n",
    "    if os.path.exists(file_dest) == False:\n",
    "        shutil.copy2(file_path,file_dest)"
   ]
  },
  {
   "cell_type": "markdown",
   "metadata": {},
   "source": [
    "# Finish! Dataset siap digunakan "
   ]
  },
  {
   "cell_type": "code",
   "execution_count": null,
   "metadata": {},
   "outputs": [],
   "source": []
  }
 ],
 "metadata": {
  "interpreter": {
   "hash": "ecf5722fdaf1897a315d257d89d94520bfcaa453217d5becf09b39e73618b0de"
  },
  "kernelspec": {
   "display_name": "Python 3 (ipykernel)",
   "language": "python",
   "name": "python3"
  },
  "language_info": {
   "codemirror_mode": {
    "name": "ipython",
    "version": 3
   },
   "file_extension": ".py",
   "mimetype": "text/x-python",
   "name": "python",
   "nbconvert_exporter": "python",
   "pygments_lexer": "ipython3",
   "version": "3.12.4"
  },
  "toc": {
   "base_numbering": 1,
   "nav_menu": {},
   "number_sections": true,
   "sideBar": true,
   "skip_h1_title": false,
   "title_cell": "Table of Contents",
   "title_sidebar": "Contents",
   "toc_cell": false,
   "toc_position": {},
   "toc_section_display": true,
   "toc_window_display": true
  },
  "varInspector": {
   "cols": {
    "lenName": 16,
    "lenType": 16,
    "lenVar": 40
   },
   "kernels_config": {
    "python": {
     "delete_cmd_postfix": "",
     "delete_cmd_prefix": "del ",
     "library": "var_list.py",
     "varRefreshCmd": "print(var_dic_list())"
    },
    "r": {
     "delete_cmd_postfix": ") ",
     "delete_cmd_prefix": "rm(",
     "library": "var_list.r",
     "varRefreshCmd": "cat(var_dic_list()) "
    }
   },
   "types_to_exclude": [
    "module",
    "function",
    "builtin_function_or_method",
    "instance",
    "_Feature"
   ],
   "window_display": false
  }
 },
 "nbformat": 4,
 "nbformat_minor": 4
}
