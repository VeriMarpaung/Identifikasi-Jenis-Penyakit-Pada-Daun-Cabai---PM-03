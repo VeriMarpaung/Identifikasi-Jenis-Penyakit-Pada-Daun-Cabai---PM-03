{
 "cells": [
  {
   "cell_type": "markdown",
   "metadata": {},
   "source": [
    "# Defiine params and lib"
   ]
  },
  {
   "cell_type": "code",
   "execution_count": 17,
   "metadata": {
    "ExecuteTime": {
     "end_time": "2020-04-28T05:29:11.481339Z",
     "start_time": "2020-04-28T05:29:11.338446Z"
    }
   },
   "outputs": [],
   "source": [
    "import requests\n",
    "from io import BytesIO\n",
    "\n",
    "from PIL import Image\n",
    "import numpy as np"
   ]
  },
  {
   "cell_type": "code",
   "execution_count": 18,
   "metadata": {
    "ExecuteTime": {
     "end_time": "2020-04-28T05:29:11.622498Z",
     "start_time": "2020-04-28T05:29:11.619866Z"
    }
   },
   "outputs": [],
   "source": [
    "# Parameters\n",
    "input_size = (160,160)\n",
    "\n",
    "#define input shape\n",
    "channel = (3,)\n",
    "input_shape = input_size + channel\n",
    "\n",
    "#define labels\n",
    "labels = ['Keriting', 'Kuning', 'Layu']"
   ]
  },
  {
   "cell_type": "markdown",
   "metadata": {},
   "source": [
    "# Define preprocess function"
   ]
  },
  {
   "cell_type": "code",
   "execution_count": 19,
   "metadata": {
    "ExecuteTime": {
     "end_time": "2020-04-28T05:29:12.252129Z",
     "start_time": "2020-04-28T05:29:12.249482Z"
    }
   },
   "outputs": [],
   "source": [
    "def preprocess(img,input_size):\n",
    "    nimg = img.convert('RGB').resize(input_size, resample= 0)\n",
    "    img_arr = (np.array(nimg))/255\n",
    "    return img_arr\n",
    "\n",
    "def reshape(imgs_arr):\n",
    "    return np.stack(imgs_arr, axis=0)"
   ]
  },
  {
   "cell_type": "markdown",
   "metadata": {},
   "source": [
    "# Load Model Langsung Kesini aja"
   ]
  },
  {
   "cell_type": "code",
   "execution_count": 26,
   "metadata": {},
   "outputs": [
    {
     "name": "stdout",
     "output_type": "stream",
     "text": [
      "Model loaded successfully.\n",
      "\u001b[1m1/1\u001b[0m \u001b[32m━━━━━━━━━━━━━━━━━━━━\u001b[0m\u001b[37m\u001b[0m \u001b[1m3s\u001b[0m 3s/step\n",
      "Predicted label: Keriting Confidence: 0.99999285\n"
     ]
    }
   ],
   "source": [
    "import tensorflow as tf\n",
    "from tensorflow.keras.models import load_model\n",
    "from tensorflow.keras.preprocessing import image\n",
    "from PIL import Image\n",
    "import numpy as np\n",
    "\n",
    "# Define the swish activation function\n",
    "def swish(x):\n",
    "    return x * tf.keras.backend.sigmoid(x)\n",
    "\n",
    "# Define or import your FixedDropout layer here if needed\n",
    "class FixedDropout(tf.keras.layers.Dropout):\n",
    "    # Custom implementation or just inherit Dropout\n",
    "    pass\n",
    "\n",
    "# Define the input size based on the model's expected input dimensions\n",
    "input_size = (160, 160)  # Sesuaikan dengan input size yang diharapkan model Anda\n",
    "\n",
    "# Load the model\n",
    "MODEL_PATH = 'model/Cabe/model_cabe.h5'\n",
    "# MODEL_PATH = 'best_model.keras'\n",
    "\n",
    "try:\n",
    "    model = load_model(MODEL_PATH, compile=False, custom_objects={'swish': swish, 'FixedDropout': FixedDropout})\n",
    "    print(\"Model loaded successfully.\")\n",
    "except Exception as e:\n",
    "    print(\"Error loading the model:\", e)\n",
    "\n",
    "# Define preprocess function\n",
    "def preprocess(image, input_size):\n",
    "    # Resize image to match input size\n",
    "    image = image.resize(input_size)\n",
    "    # Convert image to numpy array and normalize to [0, 1]\n",
    "    image = np.array(image).astype(np.float32) / 255.0\n",
    "    # Add batch dimension for model prediction\n",
    "    return np.expand_dims(image, axis=0)\n",
    "\n",
    "# Load and preprocess the image\n",
    "im = Image.open('k2.jpg')\n",
    "X = preprocess(im, input_size)  # Preprocess the image\n",
    "\n",
    "# Predict with the model\n",
    "y = model.predict(X)\n",
    "\n",
    "# Assuming labels list is defined (e.g., labels = [\"label_1\", \"label_2\", \"label_3\"])\n",
    "labels = ['Keriting', 'Kuning', 'Layu']  # Sesuaikan dengan label model Anda\n",
    "\n",
    "# Print prediction result\n",
    "print(\"Predicted label:\", labels[np.argmax(y)], \"Confidence:\", np.max(y))\n"
   ]
  }
 ],
 "metadata": {
  "interpreter": {
   "hash": "ecf5722fdaf1897a315d257d89d94520bfcaa453217d5becf09b39e73618b0de"
  },
  "kernelspec": {
   "display_name": "Python 3 (ipykernel)",
   "language": "python",
   "name": "python3"
  },
  "language_info": {
   "codemirror_mode": {
    "name": "ipython",
    "version": 3
   },
   "file_extension": ".py",
   "mimetype": "text/x-python",
   "name": "python",
   "nbconvert_exporter": "python",
   "pygments_lexer": "ipython3",
   "version": "3.12.4"
  },
  "toc": {
   "base_numbering": 1,
   "nav_menu": {},
   "number_sections": true,
   "sideBar": true,
   "skip_h1_title": false,
   "title_cell": "Table of Contents",
   "title_sidebar": "Contents",
   "toc_cell": false,
   "toc_position": {},
   "toc_section_display": true,
   "toc_window_display": false
  },
  "varInspector": {
   "cols": {
    "lenName": 16,
    "lenType": 16,
    "lenVar": 40
   },
   "kernels_config": {
    "python": {
     "delete_cmd_postfix": "",
     "delete_cmd_prefix": "del ",
     "library": "var_list.py",
     "varRefreshCmd": "print(var_dic_list())"
    },
    "r": {
     "delete_cmd_postfix": ") ",
     "delete_cmd_prefix": "rm(",
     "library": "var_list.r",
     "varRefreshCmd": "cat(var_dic_list()) "
    }
   },
   "types_to_exclude": [
    "module",
    "function",
    "builtin_function_or_method",
    "instance",
    "_Feature"
   ],
   "window_display": false
  }
 },
 "nbformat": 4,
 "nbformat_minor": 4
}
